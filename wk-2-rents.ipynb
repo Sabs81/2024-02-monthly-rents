{
 "cells": [
  {
   "cell_type": "markdown",
   "id": "0ee5e7cb",
   "metadata": {},
   "source": [
    "Basic Calculationss and Naming conventions\n",
    "\n",
    "in 2023 "
   ]
  },
  {
   "cell_type": "code",
   "execution_count": 1,
   "id": "c39c5167",
   "metadata": {},
   "outputs": [
    {
     "data": {
      "text/plain": [
       "25.0"
      ]
     },
     "execution_count": 1,
     "metadata": {},
     "output_type": "execute_result"
    }
   ],
   "source": [
    "## calcuate here Trina's share of the rent\n",
    "700 / (900 + 1_200 + 700) * 100"
   ]
  },
  {
   "cell_type": "code",
   "execution_count": 2,
   "id": "6c5af44b",
   "metadata": {},
   "outputs": [],
   "source": [
    "alfred_monthly_23 = 900\n",
    "fatima_monthly_23 = 1_200\n",
    "trina_monthly_23 = 700"
   ]
  },
  {
   "cell_type": "code",
   "execution_count": 3,
   "id": "910f5e7f",
   "metadata": {},
   "outputs": [],
   "source": [
    "## can also assuign lie this: \n",
    "alfred_m, fatima_m, trina_m = 900, 1_200, 700"
   ]
  },
  {
   "cell_type": "code",
   "execution_count": 4,
   "id": "0461f1be",
   "metadata": {},
   "outputs": [
    {
     "data": {
      "text/plain": [
       "700"
      ]
     },
     "execution_count": 4,
     "metadata": {},
     "output_type": "execute_result"
    }
   ],
   "source": [
    "## call variables\n",
    "alfred_m\n",
    "fatima_monthly_23\n",
    "trina_m"
   ]
  },
  {
   "cell_type": "code",
   "execution_count": 5,
   "id": "1389b7f4",
   "metadata": {},
   "outputs": [
    {
     "data": {
      "text/plain": [
       "25.0"
      ]
     },
     "execution_count": 5,
     "metadata": {},
     "output_type": "execute_result"
    }
   ],
   "source": [
    "## calculate trina's share in variables\n",
    "trina_share_23 = trina_monthly_23 / (alfred_monthly_23 + fatima_monthly_23 + trina_monthly_23) * 100\n",
    "trina_share_23"
   ]
  },
  {
   "cell_type": "code",
   "execution_count": 6,
   "id": "8f75ab70",
   "metadata": {},
   "outputs": [
    {
     "ename": "SyntaxError",
     "evalue": "unexpected character after line continuation character (3085404407.py, line 4)",
     "output_type": "error",
     "traceback": [
      "\u001b[0;36m  Cell \u001b[0;32mIn[6], line 4\u001b[0;36m\u001b[0m\n\u001b[0;31m    fatima_monthly_23 + \\\u001b[0m\n\u001b[0m                          \n^\u001b[0m\n\u001b[0;31mSyntaxError\u001b[0m\u001b[0;31m:\u001b[0m unexpected character after line continuation character\n"
     ]
    }
   ],
   "source": [
    "## easier to read\n",
    "trina_share_23 = \\\n",
    "trina_share_23 = trina_monthly_23 / (alfred_monthly_23 + \\\n",
    "                                     fatima_monthly_23 + \\ \n",
    "                                     trina_monthly_23) * 100\n",
    "trina_share_23"
   ]
  },
  {
   "cell_type": "code",
   "execution_count": null,
   "id": "0a1fd054",
   "metadata": {},
   "outputs": [],
   "source": [
    "## call it\n",
    "trina_share_23, "
   ]
  },
  {
   "cell_type": "code",
   "execution_count": null,
   "id": "b17c1096",
   "metadata": {},
   "outputs": [],
   "source": [
    "## print function\n",
    "\n",
    "print (\"hello\")"
   ]
  },
  {
   "cell_type": "code",
   "execution_count": 10,
   "id": "61a5d0bb",
   "metadata": {},
   "outputs": [
    {
     "name": "stdout",
     "output_type": "stream",
     "text": [
      "900\n",
      "1200\n",
      "1200 900\n"
     ]
    }
   ],
   "source": [
    "## print variables\n",
    "print (alfred_monthly_23)\n",
    "print (fatima_monthly_23)\n",
    "print (fatima_monthly_23, alfred_monthly_23)"
   ]
  },
  {
   "cell_type": "code",
   "execution_count": 12,
   "id": "f88ee743",
   "metadata": {},
   "outputs": [
    {
     "name": "stdout",
     "output_type": "stream",
     "text": [
      "trina's rent: $700 \n",
      "trina pays 25.0 percent of th total rent\n"
     ]
    }
   ],
   "source": [
    "## using f-string\n",
    "## print total al of the monthly rents \n",
    "print(f\"trina's rent: ${trina_monthly_23} \")\n",
    "print(f\"trina pays {trina_share_23} percent of th total rent\")"
   ]
  },
  {
   "cell_type": "code",
   "execution_count": 14,
   "id": "22be4443",
   "metadata": {},
   "outputs": [
    {
     "name": "stdout",
     "output_type": "stream",
     "text": [
      "the total monthly rent is $2800\n"
     ]
    }
   ],
   "source": [
    "## f-string \n",
    "\n",
    "print (f\"the total monthly rent is \\\n",
    "${alfred_monthly_23 + fatima_monthly_23 + trina_monthly_23}\")\n"
   ]
  },
  {
   "cell_type": "code",
   "execution_count": null,
   "id": "ef03d37c",
   "metadata": {},
   "outputs": [],
   "source": []
  }
 ],
 "metadata": {
  "kernelspec": {
   "display_name": "Python 3 (ipykernel)",
   "language": "python",
   "name": "python3"
  },
  "language_info": {
   "codemirror_mode": {
    "name": "ipython",
    "version": 3
   },
   "file_extension": ".py",
   "mimetype": "text/x-python",
   "name": "python",
   "nbconvert_exporter": "python",
   "pygments_lexer": "ipython3",
   "version": "3.11.5"
  }
 },
 "nbformat": 4,
 "nbformat_minor": 5
}
