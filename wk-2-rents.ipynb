{
 "cells": [
  {
   "cell_type": "markdown",
   "id": "cd347f02",
   "metadata": {},
   "source": [
    "Basic Calculationss and Naming conventions\n",
    "\n",
    "in 2023 "
   ]
  },
  {
   "cell_type": "code",
   "execution_count": 2,
   "id": "9740936c",
   "metadata": {},
   "outputs": [
    {
     "data": {
      "text/plain": [
       "25.0"
      ]
     },
     "execution_count": 2,
     "metadata": {},
     "output_type": "execute_result"
    }
   ],
   "source": [
    "## calcuate here Trina's share of the rent\n",
    "700 / (900 + 1_200 + 700) * 100"
   ]
  },
  {
   "cell_type": "code",
   "execution_count": 3,
   "id": "9752eb3a",
   "metadata": {},
   "outputs": [],
   "source": [
    "alfred_monthly_23 = 900\n",
    "fatima_monthly_23 = 1_200\n",
    "trina_monthly_23 = 700"
   ]
  },
  {
   "cell_type": "code",
   "execution_count": 4,
   "id": "d8e6373c",
   "metadata": {},
   "outputs": [],
   "source": [
    "## can also assuign lie this: \n",
    "alfred_m, fatima_m, trina_m = 900, 1_200, 700"
   ]
  },
  {
   "cell_type": "code",
   "execution_count": 7,
   "id": "57f55397",
   "metadata": {},
   "outputs": [
    {
     "data": {
      "text/plain": [
       "1200"
      ]
     },
     "execution_count": 7,
     "metadata": {},
     "output_type": "execute_result"
    }
   ],
   "source": [
    "## call variables\n",
    "alfred_m\n",
    "fatima_monthly_23\n",
    "trina_m"
   ]
  },
  {
   "cell_type": "code",
   "execution_count": 11,
   "id": "3b5e9986",
   "metadata": {},
   "outputs": [
    {
     "data": {
      "text/plain": [
       "25.0"
      ]
     },
     "execution_count": 11,
     "metadata": {},
     "output_type": "execute_result"
    }
   ],
   "source": [
    "## calculate trina's share in variables\n",
    "trina_share_23 = trina_monthly_23 / (alfred_monthly_23 + fatima_monthly_23 + trina_monthly_23) * 100\n",
    "trina_share_23"
   ]
  },
  {
   "cell_type": "code",
   "execution_count": 15,
   "id": "b31ea0fe",
   "metadata": {},
   "outputs": [
    {
     "ename": "SyntaxError",
     "evalue": "unexpected character after line continuation character (3085404407.py, line 4)",
     "output_type": "error",
     "traceback": [
      "\u001b[0;36m  Cell \u001b[0;32mIn[15], line 4\u001b[0;36m\u001b[0m\n\u001b[0;31m    fatima_monthly_23 + \\\u001b[0m\n\u001b[0m                          \n^\u001b[0m\n\u001b[0;31mSyntaxError\u001b[0m\u001b[0;31m:\u001b[0m unexpected character after line continuation character\n"
     ]
    }
   ],
   "source": [
    "## easier to read\n",
    "trina_share_23 = \\\n",
    "trina_share_23 = trina_monthly_23 / (alfred_monthly_23 + \\\n",
    "                                     fatima_monthly_23 + \\ \n",
    "                                     trina_monthly_23) * 100\n",
    "trina_share_23"
   ]
  },
  {
   "cell_type": "code",
   "execution_count": 16,
   "id": "d88c9b2b",
   "metadata": {},
   "outputs": [
    {
     "data": {
      "text/plain": [
       "25.0"
      ]
     },
     "execution_count": 16,
     "metadata": {},
     "output_type": "execute_result"
    }
   ],
   "source": [
    "## call it\n",
    "trina_share_23, "
   ]
  },
  {
   "cell_type": "code",
   "execution_count": null,
   "id": "9e992763",
   "metadata": {},
   "outputs": [],
   "source": []
  }
 ],
 "metadata": {
  "kernelspec": {
   "display_name": "Python 3 (ipykernel)",
   "language": "python",
   "name": "python3"
  },
  "language_info": {
   "codemirror_mode": {
    "name": "ipython",
    "version": 3
   },
   "file_extension": ".py",
   "mimetype": "text/x-python",
   "name": "python",
   "nbconvert_exporter": "python",
   "pygments_lexer": "ipython3",
   "version": "3.11.5"
  }
 },
 "nbformat": 4,
 "nbformat_minor": 5
}
